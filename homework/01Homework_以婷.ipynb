{
 "cells": [
  {
   "cell_type": "markdown",
   "metadata": {},
   "source": [
    "# 作業目標  \n",
    "1.[簡答題]請問下列兩種將Array轉換成List的方式有何不同?  \n",
    "    \n",
    "    print('list(a): ', list(a))  \n",
    "    print('tolist(): ', a.tolist())\n",
    "    \n",
    "2.請試著在程式中印出以下三個 NdArray 的屬性？（屬性：ndim、shape、size、dtype、itemsize、length、type)  \n",
    "\n",
    "    a = np.random.randint(10, size=6) \n",
    "    b = np.random.randint(10, size=(3,4)) \n",
    "    c = np.random.randint(10, size=(2,3,2)) \n",
    "\n",
    "3.如何利用 list(...) 實現 a.tolist() 的效果？試著用程式實作。"
   ]
  },
  {
   "cell_type": "markdown",
   "metadata": {},
   "source": [
    "## 作業"
   ]
  },
  {
   "cell_type": "markdown",
   "metadata": {},
   "source": [
    "### 1.[簡答題]請問下列兩種將Array轉換成List的方式有何不同?  \n",
    "    print('list(a): ', list(a))  \n",
    "    print('tolist(): ', a.tolist())"
   ]
  },
  {
   "cell_type": "code",
   "execution_count": 6,
   "metadata": {},
   "outputs": [
    {
     "name": "stdout",
     "output_type": "stream",
     "text": [
      "list(a):  [8, 0, 4, 0, 7, 0]\n",
      "a.tolist():  [8, 0, 4, 0, 7, 0]\n",
      "list(b):  [array([2, 6]), array([7, 2]), array([6, 5])]\n",
      "b.tolist():  [[2, 6], [7, 2], [6, 5]]\n"
     ]
    }
   ],
   "source": [
    "import numpy as np\n",
    "\n",
    "a = np.random.randint(10, size=6)\n",
    "\n",
    "print('list(a): ', list(a))\n",
    "print('a.tolist(): ', a.tolist())\n",
    "\n",
    "b = np.random.randint(10, size=6).reshape(3,2)\n",
    "\n",
    "print('list(b): ', list(b))\n",
    "print('b.tolist(): ', b.tolist())\n",
    "\n"
   ]
  },
  {
   "cell_type": "markdown",
   "metadata": {},
   "source": [
    ">* list()只能將第一層的元素轉換成陣列  \n",
    "* tolist()能將多層的型態完全轉換"
   ]
  },
  {
   "cell_type": "markdown",
   "metadata": {},
   "source": [
    "### 2.請試著在程式中印出以下三個 NdArray 的屬性並且解釋結果?（屬性：ndim、shape、size、dtype、itemsize、length、type）\n",
    "\n",
    "    a = np.random.randint(10, size=6)  \n",
    "    b = np.random.randint(10, size=(3,4))   \n",
    "    c = np.random.randint(10, size=(2,3,2))  \n"
   ]
  },
  {
   "cell_type": "code",
   "execution_count": 7,
   "metadata": {
    "scrolled": true
   },
   "outputs": [
    {
     "name": "stdout",
     "output_type": "stream",
     "text": [
      "[8 5 5 1 6 5]\n",
      "1\n",
      "(6,)\n",
      "6\n",
      "int32\n",
      "4\n",
      "6\n",
      "<class 'numpy.ndarray'>\n"
     ]
    }
   ],
   "source": [
    "import numpy as np\n",
    "\n",
    "a = np.random.randint(10, size=6)\n",
    "\n",
    "print(a)\n",
    "print(a.ndim)\n",
    "print(a.shape)\n",
    "print(a.size)\n",
    "print(a.dtype)\n",
    "print(a.itemsize)\n",
    "print(len(a))\n",
    "print(type(a))"
   ]
  },
  {
   "cell_type": "code",
   "execution_count": 11,
   "metadata": {},
   "outputs": [
    {
     "name": "stdout",
     "output_type": "stream",
     "text": [
      "[[[2 9]\n",
      "  [5 6]\n",
      "  [5 4]]\n",
      "\n",
      " [[2 4]\n",
      "  [6 0]\n",
      "  [1 8]]]\n",
      "3\n",
      "(2, 3, 2)\n",
      "12\n",
      "int32\n",
      "4\n",
      "2\n",
      "<class 'numpy.ndarray'>\n"
     ]
    }
   ],
   "source": [
    "import numpy as np\n",
    "\n",
    "c = np.random.randint(10, size=(2,3,2)) \n",
    "\n",
    "print(c)                \n",
    "print(c.ndim)\n",
    "print(c.shape)\n",
    "print(c.size)\n",
    "print(c.dtype)\n",
    "print(c.itemsize)\n",
    "print(len(c))\n",
    "print(type(c))"
   ]
  },
  {
   "cell_type": "code",
   "execution_count": 8,
   "metadata": {},
   "outputs": [
    {
     "name": "stdout",
     "output_type": "stream",
     "text": [
      "[[7 3 8 3]\n",
      " [6 1 6 5]\n",
      " [1 4 6 9]]\n",
      "2\n",
      "(3, 4)\n",
      "12\n",
      "int32\n",
      "4\n",
      "3\n",
      "<class 'numpy.ndarray'>\n"
     ]
    }
   ],
   "source": [
    "import numpy as np\n",
    "\n",
    "b = np.random.randint(10, size=(3,4))\n",
    "\n",
    "print(b)\n",
    "print(b.ndim)\n",
    "print(b.shape)\n",
    "print(b.size)\n",
    "print(b.dtype)\n",
    "print(b.itemsize)\n",
    "print(len(b))\n",
    "print(type(b))"
   ]
  },
  {
   "cell_type": "markdown",
   "metadata": {},
   "source": [
    ">* ndarray.ndim:陣列的維度\n",
    "* ndarray.shape:每個維度的大小\n",
    "* ndarray.size:陣列的元素個數\n",
    "* ndarray.dtype:陣列的元素型態\n",
    "* ndarray.itemsize:每個元素佔用的空間\n",
    "* len():返回對象的長度或項目個數\n",
    "* type():返回對象的類型"
   ]
  },
  {
   "cell_type": "markdown",
   "metadata": {},
   "source": [
    "### 如何利用 list(...) 實現 a.tolist() 的效果？試著用程式實作。"
   ]
  },
  {
   "cell_type": "code",
   "execution_count": 12,
   "metadata": {},
   "outputs": [
    {
     "name": "stdout",
     "output_type": "stream",
     "text": [
      "[5, 2, 4, 0, 7, 0]\n",
      "[5, 2, 4, 0, 7, 0]\n"
     ]
    }
   ],
   "source": [
    "a = np.random.randint(10, size=6) \n",
    "\n",
    "print(a.tolist())\n",
    "print(list(a))"
   ]
  },
  {
   "cell_type": "code",
   "execution_count": 13,
   "metadata": {},
   "outputs": [
    {
     "name": "stdout",
     "output_type": "stream",
     "text": [
      "[[3, 9, 3, 2], [5, 3, 0, 3], [6, 5, 1, 4]]\n",
      "[array([3, 9, 3, 2]), array([5, 3, 0, 3]), array([6, 5, 1, 4])]\n"
     ]
    }
   ],
   "source": [
    "b = np.random.randint(10, size=(3,4))\n",
    "\n",
    "print(b.tolist())\n",
    "print(list(b))"
   ]
  },
  {
   "cell_type": "code",
   "execution_count": 14,
   "metadata": {},
   "outputs": [
    {
     "name": "stdout",
     "output_type": "stream",
     "text": [
      "[[[5, 5], [5, 7], [7, 3]], [[5, 8], [4, 4], [8, 1]]]\n",
      "[array([[5, 5],\n",
      "       [5, 7],\n",
      "       [7, 3]]), array([[5, 8],\n",
      "       [4, 4],\n",
      "       [8, 1]])]\n"
     ]
    }
   ],
   "source": [
    "c = np.random.randint(10, size=(2,3,2)) \n",
    "\n",
    "print(c.tolist())\n",
    "print(list(c))"
   ]
  },
  {
   "cell_type": "code",
   "execution_count": 15,
   "metadata": {},
   "outputs": [
    {
     "name": "stdout",
     "output_type": "stream",
     "text": [
      "[5, 2, 4, 0, 7, 0]\n",
      "[[3, 9, 3, 2], [5, 3, 0, 3], [6, 5, 1, 4]]\n",
      "[[[5, 5], [5, 7], [7, 3]], [[5, 8], [4, 4], [8, 1]]]\n"
     ]
    }
   ],
   "source": [
    "def tolist(iterable):\n",
    "    \n",
    "    if type(iterable) != np.ndarray:\n",
    "        return iterable\n",
    "    return [tolist(obj) for obj in iterable]\n",
    "    \n",
    "print(tolist(a))\n",
    "print(tolist(b))\n",
    "print(tolist(c))"
   ]
  }
 ],
 "metadata": {
  "kernelspec": {
   "display_name": "Python 3",
   "language": "python",
   "name": "python3"
  },
  "language_info": {
   "codemirror_mode": {
    "name": "ipython",
    "version": 3
   },
   "file_extension": ".py",
   "mimetype": "text/x-python",
   "name": "python",
   "nbconvert_exporter": "python",
   "pygments_lexer": "ipython3",
   "version": "3.7.4"
  }
 },
 "nbformat": 4,
 "nbformat_minor": 2
}
