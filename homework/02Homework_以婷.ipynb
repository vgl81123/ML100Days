{
 "cells": [
  {
   "cell_type": "markdown",
   "metadata": {},
   "source": [
    "# 作業目標\n",
    "\n",
    "1.[簡答題] 請問 type(...) 跟 a.dtype 這兩個語法有什麼不同？\n",
    "\n",
    "    print('type(a): ', type(a))\n",
    "    print('a.dtype: ', a.dtype)\n",
    "    \n",
    "2.請撰寫一個判斷 a 的元素是否等於指定資料型態的函式  \n",
    "3.[簡答題] 承上題，請判斷下列三種寫法為何不正確？\n",
    "\n",
    "    def is_dtype(a, t):\n",
    "        return a.dtype is t\n",
    "\n",
    "    def is_dtype(a, t):\n",
    "        return type(a) == np.dtype(t)\n",
    "\n",
    "    def is_dtype(a, t):\n",
    "        return type(a) is np.dtype(t)"
   ]
  },
  {
   "cell_type": "markdown",
   "metadata": {},
   "source": [
    "## 作業"
   ]
  },
  {
   "cell_type": "markdown",
   "metadata": {},
   "source": [
    "### 1.[簡答題] 請問 type(...) 跟 a.dtype 這兩個語法有什麼不同？\n",
    "\n",
    "    print('type(a): ', type(a))\n",
    "    print('a.dtype: ', a.dtype)"
   ]
  },
  {
   "cell_type": "code",
   "execution_count": 2,
   "metadata": {},
   "outputs": [
    {
     "name": "stdout",
     "output_type": "stream",
     "text": [
      "type(a):  <class 'numpy.ndarray'>\n",
      "a.dtype:  int32\n"
     ]
    }
   ],
   "source": [
    "import numpy as np\n",
    "\n",
    "a = np.random.randint(10, size=6)\n",
    "\n",
    "print('type(a): ', type(a))\n",
    "print('a.dtype: ', a.dtype)\n"
   ]
  },
  {
   "cell_type": "markdown",
   "metadata": {},
   "source": [
    ">* type(a):回傳a的型態\n",
    "* a.type:回傳a陣列中的元素型態"
   ]
  },
  {
   "cell_type": "markdown",
   "metadata": {},
   "source": [
    "### 2.請撰寫一個判斷 a 的元素是否等於指定資料型態的函式，並且通過測試。"
   ]
  },
  {
   "cell_type": "code",
   "execution_count": 1,
   "metadata": {},
   "outputs": [
    {
     "name": "stdout",
     "output_type": "stream",
     "text": [
      "True\n",
      "True\n",
      "True\n"
     ]
    }
   ],
   "source": [
    "import numpy as np\n",
    "\n",
    "def is_dtype(a, t): \n",
    "    return a.dtype is np.dtype(t)\n",
    "\n",
    "a = np.random.randint(10, size=6)\n",
    "\n",
    "print(is_dtype(a, 'int'))\n",
    "print(is_dtype(a, np.int))\n",
    "print(is_dtype(a, np.dtype('int')))\n"
   ]
  },
  {
   "cell_type": "markdown",
   "metadata": {},
   "source": [
    "### 3.[簡答題] 承上題，請判斷下列三種寫法為何不正確？ \n",
    "\n",
    "    def is_dtype(a, t):\n",
    "        return a.dtype is t\n",
    "\n",
    "    def is_dtype(a, t):\n",
    "        return type(a) == np.dtype(t)\n",
    "\n",
    "    def is_dtype(a, t):\n",
    "        return type(a) is np.dtype(t)"
   ]
  },
  {
   "cell_type": "markdown",
   "metadata": {},
   "source": [
    ">* is比==更加嚴格，一定要型態正確才會回傳true\n",
    "* type()是檢查變數的型態，而不是元素的型態"
   ]
  }
 ],
 "metadata": {
  "kernelspec": {
   "display_name": "Python 3",
   "language": "python",
   "name": "python3"
  },
  "language_info": {
   "codemirror_mode": {
    "name": "ipython",
    "version": 3
   },
   "file_extension": ".py",
   "mimetype": "text/x-python",
   "name": "python",
   "nbconvert_exporter": "python",
   "pygments_lexer": "ipython3",
   "version": "3.7.4"
  }
 },
 "nbformat": 4,
 "nbformat_minor": 2
}
